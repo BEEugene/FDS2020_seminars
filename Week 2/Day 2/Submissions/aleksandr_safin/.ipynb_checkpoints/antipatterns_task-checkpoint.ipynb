{
 "cells": [
  {
   "cell_type": "code",
   "execution_count": 1,
   "metadata": {},
   "outputs": [
    {
     "name": "stdout",
     "output_type": "stream",
     "text": [
      "Number of unique items:56\n",
      "      words  counts\n",
      "52     lola       4\n",
      "89  quilted       4\n",
      "32      tie       4\n",
      "50    small       4\n",
      "13    motif       5\n",
      "(21, 2)\n"
     ]
    },
    {
     "name": "stderr",
     "output_type": "stream",
     "text": [
      "/opt/conda/lib/python3.6/site-packages/ipykernel_launcher.py:56: SettingWithCopyWarning: \n",
      "A value is trying to be set on a copy of a slice from a DataFrame.\n",
      "Try using .loc[row_indexer,col_indexer] = value instead\n",
      "\n",
      "See the caveats in the documentation: http://pandas.pydata.org/pandas-docs/stable/user_guide/indexing.html#returning-a-view-versus-a-copy\n"
     ]
    }
   ],
   "source": [
    "from bs4 import BeautifulSoup\n",
    "import requests\n",
    "import pandas as pd\n",
    "import numpy as np\n",
    "import matplotlib.pyplot as plt\n",
    "urls = [\n",
    "    \"https://us.burberry.com/womens-new-arrivals-new-in/\",\n",
    "    \"https://us.burberry.com/womens-new-arrivals-new-in/?start=2&pageSize=120&productsOffset=&cellsOffset=8&cellsLimit=&__lang=en\"\n",
    "]\n",
    "\n",
    "# SCRAPING & CREATING A LIST OF LINKS\n",
    "doc = []\n",
    "for url in urls:\n",
    "    r = requests.get(url)\n",
    "    html_doc = r.text\n",
    "    soup = BeautifulSoup(html_doc)\n",
    "\n",
    "    for link in soup.find_all(\"a\"):\n",
    "        l = link.get(\"href\")\n",
    "        if \"-p80\" in l: # <-- THIS WILL NEED TO CHANGE\n",
    "            doc.append(l)\n",
    "\n",
    "# DEDUPLICATING THE LIST OF LINKS\n",
    "doc_uniq = set(doc)\n",
    "print(\"Number of unique items:\"+str(len(doc_uniq)))\n",
    "\n",
    "# CREATING A DICTIONARY WITH WORDS : COUNTS AND KEY : VALUE PAIRS\n",
    "result = {}\n",
    "for link in doc_uniq:\n",
    "    words = link.replace(\"/\", \"\").split(\"-\")\n",
    "    for word in words:\n",
    "        if word in result:\n",
    "            result[word] += 1\n",
    "        else:\n",
    "            result[word] = 1\n",
    "            \n",
    "words = list(result.keys())\n",
    "counts = list(result.values())\n",
    "\n",
    "# TURNING THE DICTIONARY INTO A DATAFRAME, SORTING & SELECTING FOR RELEVANCE\n",
    "df = pd.DataFrame.from_dict({\n",
    "    \"words\": words,\n",
    "    \"counts\": counts,\n",
    "})\n",
    "\n",
    "df_sorted = df.sort_values(\"counts\", ascending = True)\n",
    "df_rel = df_sorted[df_sorted['counts']>3]\n",
    "print(df_rel.head())\n",
    "print(df_rel.shape) \n",
    "\n",
    "# PLOTTING\n",
    "plt.barh(df_rel['words'], df_rel['counts'], color = \"#C19A6B\")\n",
    "plt.title(\"Most used words in Burberry 'New in' SS2020 Women collection\")\n",
    "plt.xticks(np.arange(0, 18, step=2))\n",
    "plt.savefig(\"SS2020_Burberry_word_frequency.jpg\")\n",
    "df_rel['brand']='burberry'\n",
    "\n",
    "df_burberry = df_rel"
   ]
  },
  {
   "cell_type": "code",
   "execution_count": 2,
   "metadata": {},
   "outputs": [
    {
     "name": "stdout",
     "output_type": "stream",
     "text": [
      "Number of unique items:100\n"
     ]
    },
    {
     "name": "stderr",
     "output_type": "stream",
     "text": [
      "/opt/conda/lib/python3.6/site-packages/ipykernel_launcher.py:59: SettingWithCopyWarning: \n",
      "A value is trying to be set on a copy of a slice from a DataFrame.\n",
      "Try using .loc[row_indexer,col_indexer] = value instead\n",
      "\n",
      "See the caveats in the documentation: http://pandas.pydata.org/pandas-docs/stable/user_guide/indexing.html#returning-a-view-versus-a-copy\n"
     ]
    },
    {
     "data": {
      "image/png": "[encoded data removed]",
      "text/plain": [
       "<Figure size 432x288 with 1 Axes>"
      ]
     },
     "metadata": {
      "needs_background": "light"
     },
     "output_type": "display_data"
    }
   ],
   "source": [
    "# VERSACE\n",
    "\n",
    "# CREATING LIST OF RELEVANT URLS\n",
    "url = \"https://www.versace.com/us/en-us/women/new-arrivals/new-in/\"\n",
    "    \n",
    "# SCRAPING & CREATING A LIST OF LINKS\n",
    "doc = []\n",
    "#for url in urls:\n",
    "r = requests.get(url)\n",
    "html_doc = r.text\n",
    "soup = BeautifulSoup(html_doc)\n",
    "soup_f = soup.find_all(\"a\")\n",
    "for t in soup_f:\n",
    "    a = t.get(\"href\")\n",
    "    if a.startswith(\"/us/en-us/women/new-arrivals/new-in/\"):\n",
    "        doc.append(a)\n",
    "\n",
    "\n",
    "# DEDUPLICATING THE LIST OF LINKS\n",
    "doc_uniq = set(doc)\n",
    "print(\"Number of unique items:\"+str(len(doc_uniq)))\n",
    "#print(doc_uniq)\n",
    "\n",
    "result = {}\n",
    "garbage = []\n",
    "for link in doc_uniq:\n",
    "    if link.startswith(\"/us/en-us/women/new-arrivals/new-in/?\"):\n",
    "        continue\n",
    "    words = link.replace(\"/us/en-us/women/new-arrivals/new-in/\", \"\") .split(\"/\")\n",
    "    words = words[0].split(\"-\")\n",
    "    \n",
    "    for word in words:\n",
    "        if word in result:\n",
    "            result[word] += 1\n",
    "        else:\n",
    "            result[word] = 1\n",
    "\n",
    "words = list(result.keys())\n",
    "counts = list(result.values())\n",
    "#print(result)\n",
    "\n",
    "# TURNING THE DICTIONARY INTO A DATAFRAME, SORTING & SELECTING FOR RELEVANCE\n",
    "df = pd.DataFrame.from_dict({\n",
    "    \"words\": words,\n",
    "    \"counts\": counts,\n",
    "})\n",
    "\n",
    "df2 = df.set_index(\"words\")\n",
    "#df2 = df.drop([\"a1008\"],axis=0)\n",
    "df_sorted = df2.sort_values(\"counts\", ascending = True)\n",
    "df_rel = df_sorted[df_sorted['counts']>2]\n",
    "#print(df_rel.head())\n",
    "#print(df_rel.shape) \n",
    "\n",
    "#PLOTTING\n",
    "plt.barh(df_rel.index, df_rel['counts'], color = \"#FFD700\")\n",
    "plt.title(\"Most used words in Versace 'New in' SS2020 Women collection\")\n",
    "plt.savefig(\"SS2020_Versace_word_frequency.jpg\")\n",
    "df_rel['brand']='versace'\n",
    "\n",
    "df_versace = df_rel"
   ]
  },
  {
   "cell_type": "code",
   "execution_count": 3,
   "metadata": {},
   "outputs": [
    {
     "name": "stdout",
     "output_type": "stream",
     "text": [
      "Number of unique items:76\n"
     ]
    },
    {
     "name": "stderr",
     "output_type": "stream",
     "text": [
      "/opt/conda/lib/python3.6/site-packages/ipykernel_launcher.py:58: SettingWithCopyWarning: \n",
      "A value is trying to be set on a copy of a slice from a DataFrame.\n",
      "Try using .loc[row_indexer,col_indexer] = value instead\n",
      "\n",
      "See the caveats in the documentation: http://pandas.pydata.org/pandas-docs/stable/user_guide/indexing.html#returning-a-view-versus-a-copy\n"
     ]
    },
    {
     "data": {
      "image/png": "[encoded data removed]",
      "text/plain": [
       "<Figure size 432x288 with 1 Axes>"
      ]
     },
     "metadata": {
      "needs_background": "light"
     },
     "output_type": "display_data"
    }
   ],
   "source": [
    "# CREATING LIST OF RELEVANT URLS\n",
    "urls = []\n",
    "#urls = list(urls)\n",
    "for i in [1,2,3,4]:\n",
    "    u = str(\"https://us.dolcegabbana.com/en/women/highlights/new-in/?page=\") + str(i)\n",
    "    urls.append(u)\n",
    "    \n",
    "#print(urls)\n",
    "\n",
    "# SCRAPING & CREATING A LIST OF LINKS\n",
    "doc = []\n",
    "for url in urls:\n",
    "    r = requests.get(url)\n",
    "    html_doc = r.text\n",
    "    soup = BeautifulSoup(html_doc)\n",
    "    soup_f = soup.find_all(\"a\")\n",
    "    \n",
    "    for t in soup_f:\n",
    "        a = t.get(\"aria-label\")\n",
    "        if a != None and a.startswith(\"Visit\"):\n",
    "            doc.append(a)\n",
    "#print(doc)\n",
    "\n",
    "# DEDUPLICATING THE LIST OF LINKS\n",
    "doc_uniq = set(doc)\n",
    "print(\"Number of unique items:\"+str(len(doc_uniq)))\n",
    "\n",
    "result = {}\n",
    "for link in doc_uniq:\n",
    "    words = link.replace(\"Visit\", \"\").replace(\" product page\",\"\").split(\" \")                                                                                                                                      \n",
    "    for word in words:\n",
    "        if word in result:\n",
    "            result[word] += 1\n",
    "        else:\n",
    "            result[word] = 1\n",
    "del(result[\"\"])\n",
    "words = list(result.keys())\n",
    "counts = list(result.values())\n",
    "\n",
    "# TURNING THE DICTIONARY INTO A DATAFRAME, SORTING & SELECTING FOR RELEVANCE\n",
    "df = pd.DataFrame.from_dict({\n",
    "    \"words\": words,\n",
    "    \"counts\": counts,\n",
    "})\n",
    "\n",
    "df2 = df.set_index(\"words\")\n",
    "#df2.drop([\"\", \"WITH\"])\n",
    "df_sorted = df2.sort_values(\"counts\", ascending = True)\n",
    "df_rel = df_sorted[df_sorted['counts']>4]\n",
    "#print(df_rel.head())\n",
    "#print(df_rel.shape) \n",
    "\n",
    "\n",
    "# PLOTTING\n",
    "plt.barh(df_rel.index, df_rel['counts'], color = \"#E0115F\")\n",
    "plt.title(\"Most used words in D&G 'New in' SS2020 Women collection\")\n",
    "plt.savefig(\"SS2020_D&G_word_frequency.jpg\", pad_inches=0.1)\n",
    "df_rel['brand']='d&g'\n",
    "\n",
    "df_dg = df_rel"
   ]
  },
  {
   "cell_type": "code",
   "execution_count": 22,
   "metadata": {},
   "outputs": [],
   "source": [
    "df_brands = pd.concat([df_versace.reset_index(), df_burberry.reset_index(), df_dg.reset_index()])"
   ]
  },
  {
   "cell_type": "code",
   "execution_count": 23,
   "metadata": {},
   "outputs": [],
   "source": [
    "df_brands = df_brands.drop(columns=['index'])"
   ]
  },
  {
   "cell_type": "code",
   "execution_count": 24,
   "metadata": {},
   "outputs": [],
   "source": [
    "df_brands['words'] = df_brands['words'].str.upper()"
   ]
  },
  {
   "cell_type": "code",
   "execution_count": 29,
   "metadata": {},
   "outputs": [],
   "source": [
    "from sklearn.preprocessing import OneHotEncoder\n",
    "from sklearn.preprocessing import LabelEncoder"
   ]
  },
  {
   "cell_type": "code",
   "execution_count": 30,
   "metadata": {},
   "outputs": [
    {
     "name": "stdout",
     "output_type": "stream",
     "text": [
      "[ 1 43 38 29  8 24  5 21 36 16 25  7  3 33  0 20 40 15 48 44 43 28 44 34\n",
      " 42 50 19 45 27 31 32 46  3 12 37 10 26 41 38 30 11 33 47  4 18 38 17 39\n",
      " 35 36 11 14 23  9 51 13  6  2 42 33  3 22 49]\n"
     ]
    }
   ],
   "source": [
    "# integer encode\n",
    "label_encoder = LabelEncoder()\n",
    "integer_encoded = label_encoder.fit_transform(df_brands['words'])\n",
    "print(integer_encoded)"
   ]
  },
  {
   "cell_type": "code",
   "execution_count": 31,
   "metadata": {},
   "outputs": [],
   "source": [
    "# binary encode\n",
    "onehot_encoder = OneHotEncoder(sparse=False)\n",
    "integer_encoded = integer_encoded.reshape(len(integer_encoded), 1)\n",
    "onehot_encoded = onehot_encoder.fit_transform(integer_encoded)"
   ]
  },
  {
   "cell_type": "code",
   "execution_count": 62,
   "metadata": {},
   "outputs": [],
   "source": [
    "def brand_target(brand):\n",
    "    if 'versace' in brand:\n",
    "        val = 0\n",
    "    elif 'burberry' in brand:\n",
    "        val = 1\n",
    "    elif 'd&g' in brand:\n",
    "        val = 2\n",
    "    else:\n",
    "        raise ValueError(f'Invalid brand: {brand}')\n",
    "    return val"
   ]
  },
  {
   "cell_type": "code",
   "execution_count": 63,
   "metadata": {},
   "outputs": [],
   "source": [
    "def apply_brand_loop(df):\n",
    "    brand_list = []\n",
    "    for i in range(len(df)):\n",
    "        brand = df.iloc[i]['brand']\n",
    "        target = brand_target(brand)\n",
    "        brand_list.append(target)\n",
    "    return brand_list"
   ]
  },
  {
   "cell_type": "code",
   "execution_count": 67,
   "metadata": {},
   "outputs": [],
   "source": [
    "brands_transformed = apply_brand_loop(df_brands.copy())\n",
    "y = brands_transformed\n",
    "\n",
    "X = onehot_encoded"
   ]
  },
  {
   "cell_type": "code",
   "execution_count": 68,
   "metadata": {},
   "outputs": [],
   "source": [
    "from sklearn.model_selection import train_test_split\n",
    "X_train, X_test, y_train, y_test = train_test_split(X, y, test_size=0.33, random_state=42)"
   ]
  },
  {
   "cell_type": "code",
   "execution_count": 70,
   "metadata": {},
   "outputs": [],
   "source": [
    "models = []"
   ]
  },
  {
   "cell_type": "code",
   "execution_count": 71,
   "metadata": {},
   "outputs": [],
   "source": [
    "from sklearn.dummy import DummyClassifier\n",
    "\n",
    "\n",
    "models.append((\"Baseline\", DummyClassifier(random_state=391488407)))"
   ]
  },
  {
   "cell_type": "code",
   "execution_count": 72,
   "metadata": {},
   "outputs": [],
   "source": [
    "from sklearn.svm import SVC\n",
    "#models.append((\"Support vector (C=1.30)\", SVC(C=1.30, gamma=\"scale\")))\n",
    "#models.append((\"Support vector (C=0.45)\", SVC(C=0.45, gamma=\"scale\")))\n",
    "#models.append((\"Support vector (C=4.80)\", SVC(C=4.80, gamma=\"scale\")))\n",
    "models.append((\"Support vector (C=1.00)\", SVC(C=1.00, gamma=\"scale\")))\n",
    "models.append((\"Support vector (C=0.25)\", SVC(C=0.25, gamma=\"scale\")))\n",
    "models.append((\"Support vector (C=4.00)\", SVC(C=4.00, gamma=\"scale\")))"
   ]
  },
  {
   "cell_type": "code",
   "execution_count": 73,
   "metadata": {},
   "outputs": [],
   "source": [
    "from sklearn.ensemble import RandomForestClassifier\n",
    "\n",
    "\n",
    "models.append((\"Random Forest\", RandomForestClassifier(n_estimators=100, random_state=1283220422)))from sklearn.linear_model import LogisticRegression\n",
    "\n",
    "\n",
    "models.append((\"Logistic Regression (C=1.00)\",\n",
    "               LogisticRegression(C=1.00, solver=\"liblinear\", penalty=\"l1\")))\n",
    "\n",
    "models.append((\"Logistic Regression (C=0.25)\",\n",
    "               LogisticRegression(C=0.25, solver=\"liblinear\", penalty=\"l1\")))\n",
    "\n",
    "models.append((\"Logistic Regression (C=4.00)\",\n",
    "               LogisticRegression(C=4.00, solver=\"liblinear\", penalty=\"l1\")))"
   ]
  },
  {
   "cell_type": "code",
   "execution_count": 74,
   "metadata": {},
   "outputs": [],
   "source": [
    "from sklearn.neighbors import KNeighborsClassifier\n",
    "\n",
    "\n",
    "models.append((\"1-nn euclidean\",\n",
    "               KNeighborsClassifier(n_neighbors=1)))\n",
    "\n",
    "models.append((\"1-nn cosine\",\n",
    "               KNeighborsClassifier(n_neighbors=1, metric=\"cosine\")))\n",
    "\n",
    "models.append((\"5-nn cosine\",\n",
    "               KNeighborsClassifier(n_neighbors=5, metric=\"cosine\")))"
   ]
  },
  {
   "cell_type": "code",
   "execution_count": 75,
   "metadata": {},
   "outputs": [],
   "source": [
    "models = dict(models)"
   ]
  },
  {
   "cell_type": "code",
   "execution_count": 76,
   "metadata": {},
   "outputs": [
    {
     "name": "stderr",
     "output_type": "stream",
     "text": [
      "/opt/conda/lib/python3.7/site-packages/sklearn/dummy.py:132: FutureWarning: The default value of strategy will change from stratified to prior in 0.24.\n",
      "  \"stratified to prior in 0.24.\", FutureWarning)\n"
     ]
    }
   ],
   "source": [
    "for name, clf in models.items():\n",
    "    clf.fit(X_train, y_train)"
   ]
  },
  {
   "cell_type": "code",
   "execution_count": 80,
   "metadata": {},
   "outputs": [],
   "source": [
    "scores = pd.Series({name: clf.score(X_test, y_test) for name, clf in models.items()}, name=\"Accuracy\")"
   ]
  },
  {
   "cell_type": "code",
   "execution_count": 81,
   "metadata": {},
   "outputs": [
    {
     "data": {
      "text/plain": [
       "Baseline                   0.285714\n",
       "Support vector (C=1.00)    0.142857\n",
       "Support vector (C=0.25)    0.190476\n",
       "Support vector (C=4.00)    0.142857\n",
       "Random Forest              0.142857\n",
       "1-nn euclidean             0.142857\n",
       "1-nn cosine                0.142857\n",
       "5-nn cosine                0.190476\n",
       "Name: Accuracy, dtype: float64"
      ]
     },
     "execution_count": 81,
     "metadata": {},
     "output_type": "execute_result"
    }
   ],
   "source": [
    "scores"
   ]
  },
  {
   "cell_type": "code",
   "execution_count": null,
   "metadata": {},
   "outputs": [],
   "source": []
  }
 ],
 "metadata": {
  "kernelspec": {
   "display_name": "Python 3",
   "language": "python",
   "name": "python3"
  },
  "language_info": {
   "codemirror_mode": {
    "name": "ipython",
    "version": 3
   },
   "file_extension": ".py",
   "mimetype": "text/x-python",
   "name": "python",
   "nbconvert_exporter": "python",
   "pygments_lexer": "ipython3",
   "version": "3.6.9"
  }
 },
 "nbformat": 4,
 "nbformat_minor": 4
}
