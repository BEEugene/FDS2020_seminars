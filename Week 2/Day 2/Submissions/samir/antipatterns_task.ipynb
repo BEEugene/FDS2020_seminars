{
 "cells": [
  {
   "cell_type": "code",
   "execution_count": 1,
   "metadata": {},
   "outputs": [
    {
     "name": "stdout",
     "output_type": "stream",
     "text": [
      "Requirement already satisfied: bs4 in /home/samir/anaconda3/envs/py36/lib/python3.6/site-packages (from -r requirements.txt (line 1)) (0.0.1)\r\n",
      "Requirement already satisfied: pandas in /home/samir/anaconda3/envs/py36/lib/python3.6/site-packages (from -r requirements.txt (line 2)) (0.25.3)\r\n",
      "Requirement already satisfied: numpy in /home/samir/anaconda3/envs/py36/lib/python3.6/site-packages (from -r requirements.txt (line 3)) (1.18.0)\r\n",
      "Requirement already satisfied: matplotlib in /home/samir/anaconda3/envs/py36/lib/python3.6/site-packages (from -r requirements.txt (line 4)) (3.1.1)\r\n",
      "Requirement already satisfied: beautifulsoup4 in /home/samir/anaconda3/envs/py36/lib/python3.6/site-packages (from bs4->-r requirements.txt (line 1)) (4.9.0)\r\n",
      "Requirement already satisfied: pytz>=2017.2 in /home/samir/anaconda3/envs/py36/lib/python3.6/site-packages (from pandas->-r requirements.txt (line 2)) (2019.3)\r\n",
      "Requirement already satisfied: python-dateutil>=2.6.1 in /home/samir/anaconda3/envs/py36/lib/python3.6/site-packages (from pandas->-r requirements.txt (line 2)) (2.8.1)\r\n",
      "Requirement already satisfied: cycler>=0.10 in /home/samir/anaconda3/envs/py36/lib/python3.6/site-packages (from matplotlib->-r requirements.txt (line 4)) (0.10.0)\r\n",
      "Requirement already satisfied: kiwisolver>=1.0.1 in /home/samir/anaconda3/envs/py36/lib/python3.6/site-packages (from matplotlib->-r requirements.txt (line 4)) (1.1.0)\r\n",
      "Requirement already satisfied: pyparsing!=2.0.4,!=2.1.2,!=2.1.6,>=2.0.1 in /home/samir/anaconda3/envs/py36/lib/python3.6/site-packages (from matplotlib->-r requirements.txt (line 4)) (2.4.5)\r\n",
      "Requirement already satisfied: soupsieve>1.2 in /home/samir/anaconda3/envs/py36/lib/python3.6/site-packages (from beautifulsoup4->bs4->-r requirements.txt (line 1)) (2.0)\r\n",
      "Requirement already satisfied: six>=1.5 in /home/samir/anaconda3/envs/py36/lib/python3.6/site-packages (from python-dateutil>=2.6.1->pandas->-r requirements.txt (line 2)) (1.13.0)\r\n",
      "Requirement already satisfied: setuptools in /home/samir/anaconda3/envs/py36/lib/python3.6/site-packages (from kiwisolver>=1.0.1->matplotlib->-r requirements.txt (line 4)) (42.0.2.post20191203)\r\n"
     ]
    }
   ],
   "source": [
    "!pip install -r requirements.txt"
   ]
  },
  {
   "cell_type": "code",
   "execution_count": 2,
   "metadata": {},
   "outputs": [],
   "source": [
    "import pandas as pd\n",
    "\n",
    "from sklearn.preprocessing import OneHotEncoder, LabelEncoder\n",
    "from sklearn.model_selection import train_test_split\n",
    "from sklearn.dummy import DummyClassifier\n",
    "from sklearn.svm import SVC\n",
    "from sklearn.ensemble import RandomForestClassifier\n",
    "from sklearn.neighbors import KNeighborsClassifier\n",
    "from sklearn.linear_model import LogisticRegression\n",
    "\n",
    "from src import result2dataframe, plot_horizontal_bar, TextScraper, CounterWithRefactor"
   ]
  },
  {
   "cell_type": "code",
   "execution_count": 3,
   "metadata": {},
   "outputs": [],
   "source": [
    "URLS = [\"https://us.burberry.com/womens-new-arrivals-new-in/\",\n",
    "        \"https://us.burberry.com/womens-new-arrivals-new-in/?start=2&pageSize=120&productsOffset=&cellsOffset=8&cellsLimit=&__lang=en\"]\n",
    "\n",
    "URL = \"https://www.versace.com/us/en-us/women/new-arrivals/new-in/\"\n",
    "\n",
    "URL_i = \"https://us.dolcegabbana.com/en/women/highlights/new-in/?page=\""
   ]
  },
  {
   "cell_type": "code",
   "execution_count": 4,
   "metadata": {},
   "outputs": [
    {
     "name": "stdout",
     "output_type": "stream",
     "text": [
      "Number of unique items:56\n",
      "         counts\n",
      "words          \n",
      "quilted       4\n",
      "tie           4\n",
      "lola          4\n",
      "small         4\n",
      "motif         5\n",
      "(21, 1)\n"
     ]
    },
    {
     "name": "stderr",
     "output_type": "stream",
     "text": [
      "/home/samir/anaconda3/envs/py36/lib/python3.6/site-packages/ipykernel_launcher.py:30: SettingWithCopyWarning: \n",
      "A value is trying to be set on a copy of a slice from a DataFrame.\n",
      "Try using .loc[row_indexer,col_indexer] = value instead\n",
      "\n",
      "See the caveats in the documentation: http://pandas.pydata.org/pandas-docs/stable/user_guide/indexing.html#returning-a-view-versus-a-copy\n"
     ]
    }
   ],
   "source": [
    "# SCRAPING & CREATING A LIST OF LINKS\n",
    "doc = []\n",
    "for url in URLS:\n",
    "    text_scraper = TextScraper(url)\n",
    "    doc_i = text_scraper.get_words('a', 'href', '-p80')\n",
    "    doc += doc_i\n",
    "\n",
    "# DUPLICATING THE LIST OF LINKS\n",
    "doc_uniq = set(doc)\n",
    "print(\"Number of unique items:\" + str(len(doc_uniq)))\n",
    "\n",
    "# CREATING A DICTIONARY WITH WORDS : COUNTS AND KEY : VALUE PAIRS\n",
    "\n",
    "counter = CounterWithRefactor(doc_uniq)\n",
    "result = counter.get_count(replace_strings=[\"/\"],\n",
    "                           split_char=\"-\",\n",
    "                           must_start_with=False,\n",
    "                           split_char_2=False)\n",
    "\n",
    "df_sorted = result2dataframe(result)\n",
    "df_rel = df_sorted[df_sorted['counts'] > 3]\n",
    "print(df_rel.head())\n",
    "print(df_rel.shape)\n",
    "\n",
    "# PLOTTING\n",
    "plot_horizontal_bar(df_rel.index, df_rel['counts'],\n",
    "                    title=\"Most used words in Burberry 'New in' SS2020 Women collection\",\n",
    "                    save=\"SS2020_Burberry_word_frequency.jpg\")\n",
    "\n",
    "df_rel['brand'] = 'burberry'\n",
    "df_burberry = df_rel"
   ]
  },
  {
   "cell_type": "code",
   "execution_count": 5,
   "metadata": {},
   "outputs": [
    {
     "name": "stdout",
     "output_type": "stream",
     "text": [
      "Number of unique items:100\n"
     ]
    },
    {
     "name": "stderr",
     "output_type": "stream",
     "text": [
      "/home/samir/anaconda3/envs/py36/lib/python3.6/site-packages/ipykernel_launcher.py:28: SettingWithCopyWarning: \n",
      "A value is trying to be set on a copy of a slice from a DataFrame.\n",
      "Try using .loc[row_indexer,col_indexer] = value instead\n",
      "\n",
      "See the caveats in the documentation: http://pandas.pydata.org/pandas-docs/stable/user_guide/indexing.html#returning-a-view-versus-a-copy\n"
     ]
    }
   ],
   "source": [
    "text_scraper = TextScraper(URL)\n",
    "doc = text_scraper.get_words('a', 'href', '/us/en-us/women/new-arrivals/new-in/')\n",
    "\n",
    "# for url in URLS:\n",
    "\n",
    "\n",
    "# DEDUPLICATING THE LIST OF LINKS\n",
    "doc_uniq = set(doc)\n",
    "print(\"Number of unique items:\" + str(len(doc_uniq)))\n",
    "# print(doc_uniq)\n",
    "\n",
    "counter = CounterWithRefactor(doc_uniq)\n",
    "result = counter.get_count(replace_strings=[\"/us/en-us/women/new-arrivals/new-in/\"],\n",
    "                           split_char=\"/\",\n",
    "                           must_start_with=\"/us/en-us/women/new-arrivals/new-in/?\",\n",
    "                           split_char_2=\"-\")\n",
    "\n",
    "df_sorted = result2dataframe(result)\n",
    "df_rel = df_sorted[df_sorted['counts'] > 2]\n",
    "# print(df_rel.head())\n",
    "# print(df_rel.shape)\n",
    "\n",
    "# PLOTTING\n",
    "plot_horizontal_bar(df_rel.index, df_rel['counts'], color=\"#FFD700\",\n",
    "                    title=\"Most used words in Versace 'New in' SS2020 Women collection\",\n",
    "                    save=\"SS2020_Versace_word_frequency.jpg\")\n",
    "\n",
    "df_rel['brand'] = 'versace'\n",
    "\n",
    "df_versace = df_rel"
   ]
  },
  {
   "cell_type": "code",
   "execution_count": 6,
   "metadata": {},
   "outputs": [
    {
     "name": "stdout",
     "output_type": "stream",
     "text": [
      "Number of unique items:76\n"
     ]
    },
    {
     "name": "stderr",
     "output_type": "stream",
     "text": [
      "/home/samir/anaconda3/envs/py36/lib/python3.6/site-packages/ipykernel_launcher.py:40: SettingWithCopyWarning: \n",
      "A value is trying to be set on a copy of a slice from a DataFrame.\n",
      "Try using .loc[row_indexer,col_indexer] = value instead\n",
      "\n",
      "See the caveats in the documentation: http://pandas.pydata.org/pandas-docs/stable/user_guide/indexing.html#returning-a-view-versus-a-copy\n"
     ]
    }
   ],
   "source": [
    "# CREATING LIST OF RELEVANT URLS\n",
    "URLS_i = []\n",
    "# URLS = list(URLS)\n",
    "for i in [1, 2, 3, 4]:\n",
    "    u = ''.join((URL_i, str(i)))\n",
    "    URLS_i.append(u)\n",
    "\n",
    "# print(URLS)\n",
    "\n",
    "# SCRAPING & CREATING A LIST OF LINKS\n",
    "doc = []\n",
    "for url in URLS_i:\n",
    "    text_scraper = TextScraper(url)\n",
    "    doc_i = text_scraper.get_words('a', 'aria-label', 'Visit')\n",
    "    doc += doc_i\n",
    "\n",
    "# print(doc)\n",
    "\n",
    "# DEDUPLICATING THE LIST OF LINKS\n",
    "doc_uniq = set(doc)\n",
    "print(\"Number of unique items:\" + str(len(doc_uniq)))\n",
    "\n",
    "counter = CounterWithRefactor(doc_uniq)\n",
    "result = counter.get_count(replace_strings=[\"Visit\", \" product page\"],\n",
    "                           split_char=\" \",\n",
    "                           must_start_with=False,\n",
    "                           split_char_2=False)\n",
    "\n",
    "df_sorted = result2dataframe(result)\n",
    "df_rel = df_sorted[df_sorted['counts'] > 4]\n",
    "# print(df_rel.head())\n",
    "# print(df_rel.shape)\n",
    "\n",
    "\n",
    "# PLOTTING\n",
    "plot_horizontal_bar(df_rel.index, df_rel['counts'], color=\"#E0115F\",\n",
    "                    title=\"Most used words in D&G 'New in' SS2020 Women collection\",\n",
    "                    save=\"SS2020_D&G_word_frequency.jpg\")\n",
    "\n",
    "df_rel['brand'] = 'd&g'\n",
    "\n",
    "df_dg = df_rel"
   ]
  },
  {
   "cell_type": "code",
   "execution_count": 7,
   "metadata": {},
   "outputs": [
    {
     "name": "stdout",
     "output_type": "stream",
     "text": [
      "[ 8 21 29 24 16 36 25  5 43 38  1  3  7  0 33 20 15 40 44 48 34 44 28 42\n",
      " 31 51 27 45 19 32  3 46 26 37 10 12 30 38 41 11 33 18 38  4 17 39 35 47\n",
      " 14 11 23 36  9 52 13  6  2 42 33  3 22 50 49]\n"
     ]
    }
   ],
   "source": [
    "df_brands = pd.concat([df_versace.reset_index(), df_burberry.reset_index(), df_dg.reset_index()])\n",
    "\n",
    "df_brands['words'] = df_brands['words'].apply(lambda x: str(x).upper())\n",
    "\n",
    "# integer encode\n",
    "label_encoder = LabelEncoder()\n",
    "integer_encoded = label_encoder.fit_transform(df_brands['words'])\n",
    "print(integer_encoded)\n",
    "\n",
    "# binary encode\n",
    "onehot_encoder = OneHotEncoder(sparse=False)\n",
    "integer_encoded = integer_encoded.reshape(len(integer_encoded), 1)\n",
    "onehot_encoded = onehot_encoder.fit_transform(integer_encoded)\n",
    "\n",
    "def brand_target(brand):\n",
    "    if not brand in ['versace', 'burberry', 'd&g']:\n",
    "        raise ValueError(f'Invalid brand: {brand}')\n",
    "    if 'versace' in brand:\n",
    "        return 0\n",
    "    if 'burberry' in brand:\n",
    "        return 1\n",
    "    if 'd&g' in brand:\n",
    "        return 2"
   ]
  },
  {
   "cell_type": "code",
   "execution_count": 8,
   "metadata": {},
   "outputs": [],
   "source": [
    "brands_transformed = df_brands['brand'].apply(lambda x: brand_target(x))\n",
    "\n",
    "y = brands_transformed\n",
    "\n",
    "X = onehot_encoded\n",
    "\n",
    "X_train, X_test, y_train, y_test = train_test_split(X, y, test_size=0.33, random_state=42)"
   ]
  },
  {
   "cell_type": "code",
   "execution_count": 9,
   "metadata": {},
   "outputs": [],
   "source": [
    "models = {}\n",
    "\n",
    "models.update({\"Baseline\": DummyClassifier(random_state=391488407)})\n",
    "# models.update({\"Support vector (C=1.30)\": SVC(C=1.30, gamma=\"scale\")})\n",
    "# models.update({\"Support vector (C=0.45)\": SVC(C=0.45, gamma=\"scale\")})\n",
    "# models.update({\"Support vector (C=4.80)\": SVC(C=4.80, gamma=\"scale\")})\n",
    "models.update({\"Support vector (C=1.00)\": SVC(C=1.00, gamma=\"scale\")})\n",
    "models.update({\"Support vector (C=0.25)\": SVC(C=0.25, gamma=\"scale\")})\n",
    "models.update({\"Support vector (C=4.00)\": SVC(C=4.00, gamma=\"scale\")})\n",
    "models.update({\"Random Forest\": RandomForestClassifier(n_estimators=100, random_state=1283220422)})\n",
    "models.update({\"Logistic Regression (C=1.00)\": LogisticRegression(C=1.00, solver=\"liblinear\", penalty=\"l1\")})\n",
    "models.update({\"Logistic Regression (C=0.25)\": LogisticRegression(C=0.25, solver=\"liblinear\", penalty=\"l1\")})\n",
    "models.update({\"Logistic Regression (C=4.00)\": LogisticRegression(C=4.00, solver=\"liblinear\", penalty=\"l1\")})\n",
    "models.update({\"1-nn euclidean\": KNeighborsClassifier(n_neighbors=1)})\n",
    "models.update({\"1-nn cosine\": KNeighborsClassifier(n_neighbors=1, metric=\"cosine\")})\n",
    "models.update({\"5-nn cosine\": KNeighborsClassifier(n_neighbors=5, metric=\"cosine\")})"
   ]
  },
  {
   "cell_type": "code",
   "execution_count": 10,
   "metadata": {},
   "outputs": [
    {
     "name": "stderr",
     "output_type": "stream",
     "text": [
      "/home/samir/anaconda3/envs/py36/lib/python3.6/site-packages/sklearn/dummy.py:132: FutureWarning: The default value of strategy will change from stratified to prior in 0.24.\n",
      "  \"stratified to prior in 0.24.\", FutureWarning)\n"
     ]
    }
   ],
   "source": [
    "for clf_key in models.keys():\n",
    "    clf = models[clf_key]\n",
    "    clf.fit(X_train, y_train)"
   ]
  },
  {
   "cell_type": "code",
   "execution_count": 11,
   "metadata": {},
   "outputs": [],
   "source": [
    "scores = pd.Series({clf_name: models[clf_name].score(X_test, y_test) for clf_name in models.keys()}, \n",
    "                   name=\"Accuracy\")"
   ]
  },
  {
   "cell_type": "code",
   "execution_count": 12,
   "metadata": {},
   "outputs": [
    {
     "data": {
      "text/plain": [
       "Baseline                        0.285714\n",
       "Support vector (C=1.00)         0.142857\n",
       "Support vector (C=0.25)         0.190476\n",
       "Support vector (C=4.00)         0.142857\n",
       "Random Forest                   0.142857\n",
       "Logistic Regression (C=1.00)    0.190476\n",
       "Logistic Regression (C=0.25)    0.190476\n",
       "Logistic Regression (C=4.00)    0.142857\n",
       "1-nn euclidean                  0.142857\n",
       "1-nn cosine                     0.142857\n",
       "5-nn cosine                     0.190476\n",
       "Name: Accuracy, dtype: float64"
      ]
     },
     "execution_count": 12,
     "metadata": {},
     "output_type": "execute_result"
    }
   ],
   "source": [
    "scores"
   ]
  }
 ],
 "metadata": {
  "kernelspec": {
   "display_name": "Python 3",
   "language": "python",
   "name": "python3"
  },
  "language_info": {
   "codemirror_mode": {
    "name": "ipython",
    "version": 3
   },
   "file_extension": ".py",
   "mimetype": "text/x-python",
   "name": "python",
   "nbconvert_exporter": "python",
   "pygments_lexer": "ipython3",
   "version": "3.6.9"
  }
 },
 "nbformat": 4,
 "nbformat_minor": 4
}
